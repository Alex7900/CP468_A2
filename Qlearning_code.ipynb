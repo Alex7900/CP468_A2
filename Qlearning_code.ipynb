{
 "cells": [
  {
   "cell_type": "code",
   "execution_count": 1,
   "metadata": {},
   "outputs": [],
   "source": [
    "import numpy as np\n",
    "\n",
    "# Parameters\n",
    "alpha = 0.1  # Learning rate\n",
    "gamma = 0.9  # Discount factor\n",
    "epsilon = 0.1  # Exploration rate for the ε-greedy policy\n",
    "iterations = 1000  # Number of iterations for training\n",
    "num_states = 3  # Three intersections: A, B, C\n",
    "num_actions = 4  # Four possible actions: Go straight/backward/left/right\n",
    "\n",
    "# Initialize Q-values arbitrarily for all state-action pairs\n",
    "Q = np.zeros((num_states, num_actions))\n",
    "\n",
    "# reward function\n",
    "def reward_function(state, action, next_state, weights, populations):\n",
    "    sum_weights = np.sum(weights)\n",
    "    sum_squares_populations_s = np.sum(np.square(populations[state]))\n",
    "    sum_squares_populations_s_prime = np.sum(np.square(populations[next_state]))\n",
    "    vehicles_reached_destination = 1 if next_state == 'destination' else 0\n",
    "    reward = -1 * (sum_weights ** 2) + sum_squares_populations_s - sum_squares_populations_s_prime + vehicles_reached_destination\n",
    "    return reward"
   ]
  }
 ],
 "metadata": {
  "kernelspec": {
   "display_name": "Python 3",
   "language": "python",
   "name": "python3"
  },
  "language_info": {
   "codemirror_mode": {
    "name": "ipython",
    "version": 3
   },
   "file_extension": ".py",
   "mimetype": "text/x-python",
   "name": "python",
   "nbconvert_exporter": "python",
   "pygments_lexer": "ipython3",
   "version": "3.11.6"
  }
 },
 "nbformat": 4,
 "nbformat_minor": 2
}
